{
  "nbformat": 4,
  "nbformat_minor": 0,
  "metadata": {
    "colab": {
      "provenance": [],
      "authorship_tag": "ABX9TyNBe0ol/As6L5zk7bBCIvmX",
      "include_colab_link": true
    },
    "kernelspec": {
      "name": "python3",
      "display_name": "Python 3"
    },
    "language_info": {
      "name": "python"
    }
  },
  "cells": [
    {
      "cell_type": "markdown",
      "metadata": {
        "id": "view-in-github",
        "colab_type": "text"
      },
      "source": [
        "<a href=\"https://colab.research.google.com/github/hakankocaman/PratikPythonAraclari/blob/master/IP_Port_Scan.ipynb\" target=\"_parent\"><img src=\"https://colab.research.google.com/assets/colab-badge.svg\" alt=\"Open In Colab\"/></a>"
      ]
    },
    {
      "cell_type": "code",
      "execution_count": null,
      "metadata": {
        "id": "Ts7g8IAsNyhE"
      },
      "outputs": [],
      "source": [
        "import socket\n",
        "import threading\n",
        "\n",
        "def scan_port(ip, port):\n",
        "    \"\"\"\n",
        "    Checks whether a particular port is open at the specified IP address.\n",
        "    \"\"\"\n",
        "    scanner = socket.socket(socket.AF_INET, socket.SOCK_STREAM)\n",
        "    scanner.settimeout(1)  # Timeout 1 second\n",
        "\n",
        "    try:\n",
        "        scanner.connect((ip, port))\n",
        "        print(f\"Port {port} is open\")\n",
        "    except:\n",
        "        pass\n",
        "    finally:\n",
        "        scanner.close()\n",
        "\n",
        "def scan_ports(ip, start_port, end_port):\n",
        "    \"\"\"\n",
        "    Scans a specific port range at the specified IP address.\n",
        "    \"\"\"\n",
        "    threads = []\n",
        "\n",
        "    for port in range(start_port, end_port + 1):\n",
        "        t = threading.Thread(target=scan_port, args=(ip, port))\n",
        "        threads.append(t)\n",
        "        t.start()\n",
        "\n",
        "    for t in threads:\n",
        "        t.join()\n",
        "\n",
        "if __name__ == \"__main__\":\n",
        "    ip_address = \"127.0.0.1\"  # Type the IP address you want to scan here\n",
        "    start_port = 1\n",
        "    end_port = 65535\n",
        "\n",
        "    scan_ports(ip_address, start_port, end_port)"
      ]
    }
  ]
}